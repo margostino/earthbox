{
 "cells": [
  {
   "cell_type": "code",
   "execution_count": 16,
   "outputs": [],
   "source": [
    "import geopandas as gpd\n",
    "import pandas as pd"
   ],
   "metadata": {
    "collapsed": false,
    "ExecuteTime": {
     "end_time": "2023-05-22T16:34:05.700075Z",
     "start_time": "2023-05-22T16:34:05.697248Z"
    }
   }
  },
  {
   "cell_type": "code",
   "execution_count": 17,
   "outputs": [
    {
     "name": "stdout",
     "output_type": "stream",
     "text": [
      "EPSG:4326\n"
     ]
    }
   ],
   "source": [
    "# Load a GeoDataFrame containing regions in Ghana\n",
    "regions = gpd.read_file(\"../data/World_Countries_(Generalized)/World_Countries__Generalized_.shp\")\n",
    "print(regions.crs)"
   ],
   "metadata": {
    "collapsed": false,
    "ExecuteTime": {
     "end_time": "2023-05-22T16:34:06.097042Z",
     "start_time": "2023-05-22T16:34:05.704521Z"
    }
   }
  },
  {
   "cell_type": "code",
   "execution_count": 18,
   "outputs": [
    {
     "name": "stderr",
     "output_type": "stream",
     "text": [
      "/Library/Frameworks/Python.framework/Versions/3.9/lib/python3.9/site-packages/pyproj/crs/crs.py:141: FutureWarning: '+init=<authority>:<code>' syntax is deprecated. '<authority>:<code>' is the preferred initialization method. When making the change, be mindful of axis order changes: https://pyproj4.github.io/pyproj/stable/gotchas.html#axis-order-changes-in-proj-6\n",
      "  in_crs_string = _prepare_from_proj_string(in_crs_string)\n"
     ]
    },
    {
     "data": {
      "text/plain": "       Satellite   Latitude   Longitude                     geometry\n0  STARLINK-6035  -0.778664  -15.191491   POINT (-15.19149 -0.77866)\n1  STARLINK-6035 -13.398631  162.808264  POINT (162.80826 -13.39863)\n2  STARLINK-6035  27.000258  -19.343903   POINT (-19.34390 27.00026)\n3  STARLINK-6035 -40.988972  157.819852  POINT (157.81985 -40.98897)\n4  STARLINK-6035  54.416671  -26.348868   POINT (-26.34887 54.41667)",
      "text/html": "<div>\n<style scoped>\n    .dataframe tbody tr th:only-of-type {\n        vertical-align: middle;\n    }\n\n    .dataframe tbody tr th {\n        vertical-align: top;\n    }\n\n    .dataframe thead th {\n        text-align: right;\n    }\n</style>\n<table border=\"1\" class=\"dataframe\">\n  <thead>\n    <tr style=\"text-align: right;\">\n      <th></th>\n      <th>Satellite</th>\n      <th>Latitude</th>\n      <th>Longitude</th>\n      <th>geometry</th>\n    </tr>\n  </thead>\n  <tbody>\n    <tr>\n      <th>0</th>\n      <td>STARLINK-6035</td>\n      <td>-0.778664</td>\n      <td>-15.191491</td>\n      <td>POINT (-15.19149 -0.77866)</td>\n    </tr>\n    <tr>\n      <th>1</th>\n      <td>STARLINK-6035</td>\n      <td>-13.398631</td>\n      <td>162.808264</td>\n      <td>POINT (162.80826 -13.39863)</td>\n    </tr>\n    <tr>\n      <th>2</th>\n      <td>STARLINK-6035</td>\n      <td>27.000258</td>\n      <td>-19.343903</td>\n      <td>POINT (-19.34390 27.00026)</td>\n    </tr>\n    <tr>\n      <th>3</th>\n      <td>STARLINK-6035</td>\n      <td>-40.988972</td>\n      <td>157.819852</td>\n      <td>POINT (157.81985 -40.98897)</td>\n    </tr>\n    <tr>\n      <th>4</th>\n      <td>STARLINK-6035</td>\n      <td>54.416671</td>\n      <td>-26.348868</td>\n      <td>POINT (-26.34887 54.41667)</td>\n    </tr>\n  </tbody>\n</table>\n</div>"
     },
     "execution_count": 18,
     "metadata": {},
     "output_type": "execute_result"
    }
   ],
   "source": [
    "# Create a DataFrame with health facilities in Ghana\n",
    "satellite_df = pd.read_csv(\"../data/last_30_days_launches.csv\")\n",
    "\n",
    "# Convert the DataFrame to a GeoDataFrame\n",
    "satellite_pos = gpd.GeoDataFrame(satellite_df, geometry=gpd.points_from_xy(satellite_df.Longitude, satellite_df.Latitude))\n",
    "\n",
    "# Set the coordinate reference system (CRS) to EPSG 4326\n",
    "satellite_pos.crs = {'init': 'epsg:4326'}\n",
    "\n",
    "# View the first five rows of the GeoDataFrame\n",
    "satellite_pos.head()"
   ],
   "metadata": {
    "collapsed": false,
    "ExecuteTime": {
     "end_time": "2023-05-22T16:34:06.111599Z",
     "start_time": "2023-05-22T16:34:06.098773Z"
    }
   }
  },
  {
   "cell_type": "code",
   "execution_count": 19,
   "outputs": [
    {
     "data": {
      "text/plain": "<AxesSubplot: >"
     },
     "execution_count": 19,
     "metadata": {},
     "output_type": "execute_result"
    },
    {
     "data": {
      "text/plain": "<Figure size 800x800 with 1 Axes>",
      "image/png": "[encoded data removed]"
     },
     "metadata": {},
     "output_type": "display_data"
    }
   ],
   "source": [
    "# Create a map\n",
    "ax = regions.plot(figsize=(8,8), color='whitesmoke', linestyle=':', edgecolor='black')\n",
    "satellite_pos.to_crs(epsg=32630).plot(markersize=1, ax=ax)"
   ],
   "metadata": {
    "collapsed": false,
    "ExecuteTime": {
     "end_time": "2023-05-22T16:34:06.671356Z",
     "start_time": "2023-05-22T16:34:06.123164Z"
    }
   }
  },
  {
   "cell_type": "code",
   "execution_count": 19,
   "outputs": [],
   "source": [],
   "metadata": {
    "collapsed": false,
    "ExecuteTime": {
     "end_time": "2023-05-22T16:34:06.675212Z",
     "start_time": "2023-05-22T16:34:06.673193Z"
    }
   }
  }
 ],
 "metadata": {
  "kernelspec": {
   "display_name": "Python 3",
   "language": "python",
   "name": "python3"
  },
  "language_info": {
   "codemirror_mode": {
    "name": "ipython",
    "version": 2
   },
   "file_extension": ".py",
   "mimetype": "text/x-python",
   "name": "python",
   "nbconvert_exporter": "python",
   "pygments_lexer": "ipython2",
   "version": "2.7.6"
  }
 },
 "nbformat": 4,
 "nbformat_minor": 0
}
