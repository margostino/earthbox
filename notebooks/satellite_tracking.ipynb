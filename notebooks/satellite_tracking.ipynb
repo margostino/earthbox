{
 "cells": [
  {
   "cell_type": "code",
   "execution_count": 1,
   "outputs": [],
   "source": [
    "import geopandas as gpd\n",
    "import pandas as pd"
   ],
   "metadata": {
    "collapsed": false,
    "ExecuteTime": {
     "end_time": "2023-05-22T19:11:50.068126Z",
     "start_time": "2023-05-22T19:11:49.491060Z"
    }
   }
  },
  {
   "cell_type": "code",
   "execution_count": 2,
   "outputs": [
    {
     "name": "stdout",
     "output_type": "stream",
     "text": [
      "EPSG:4326\n"
     ]
    }
   ],
   "source": [
    "# Load a GeoDataFrame containing regions in Ghana\n",
    "regions = gpd.read_file(\"../data/World_Countries_(Generalized)/World_Countries__Generalized_.shp\")\n",
    "print(regions.crs)"
   ],
   "metadata": {
    "collapsed": false,
    "ExecuteTime": {
     "end_time": "2023-05-22T19:11:50.761033Z",
     "start_time": "2023-05-22T19:11:50.060233Z"
    }
   }
  },
  {
   "cell_type": "code",
   "execution_count": 3,
   "outputs": [
    {
     "name": "stderr",
     "output_type": "stream",
     "text": [
      "/Library/Frameworks/Python.framework/Versions/3.9/lib/python3.9/site-packages/pyproj/crs/crs.py:141: FutureWarning: '+init=<authority>:<code>' syntax is deprecated. '<authority>:<code>' is the preferred initialization method. When making the change, be mindful of axis order changes: https://pyproj4.github.io/pyproj/stable/gotchas.html#axis-order-changes-in-proj-6\n",
      "  in_crs_string = _prepare_from_proj_string(in_crs_string)\n"
     ]
    },
    {
     "data": {
      "text/plain": "      Satellite  Latitude   Longitude                    geometry\n1    LUMELITE-4 -1.473385   82.800583   POINT (82.80058 -1.47339)\n250  LUMELITE-4 -1.943271   93.733819   POINT (93.73382 -1.94327)\n499  LUMELITE-4 -2.415983  104.709840  POINT (104.70984 -2.41598)\n748  LUMELITE-4 -2.890558  115.731104  POINT (115.73110 -2.89056)\n997  LUMELITE-4 -3.365965  126.800385  POINT (126.80039 -3.36596)",
      "text/html": "<div>\n<style scoped>\n    .dataframe tbody tr th:only-of-type {\n        vertical-align: middle;\n    }\n\n    .dataframe tbody tr th {\n        vertical-align: top;\n    }\n\n    .dataframe thead th {\n        text-align: right;\n    }\n</style>\n<table border=\"1\" class=\"dataframe\">\n  <thead>\n    <tr style=\"text-align: right;\">\n      <th></th>\n      <th>Satellite</th>\n      <th>Latitude</th>\n      <th>Longitude</th>\n      <th>geometry</th>\n    </tr>\n  </thead>\n  <tbody>\n    <tr>\n      <th>1</th>\n      <td>LUMELITE-4</td>\n      <td>-1.473385</td>\n      <td>82.800583</td>\n      <td>POINT (82.80058 -1.47339)</td>\n    </tr>\n    <tr>\n      <th>250</th>\n      <td>LUMELITE-4</td>\n      <td>-1.943271</td>\n      <td>93.733819</td>\n      <td>POINT (93.73382 -1.94327)</td>\n    </tr>\n    <tr>\n      <th>499</th>\n      <td>LUMELITE-4</td>\n      <td>-2.415983</td>\n      <td>104.709840</td>\n      <td>POINT (104.70984 -2.41598)</td>\n    </tr>\n    <tr>\n      <th>748</th>\n      <td>LUMELITE-4</td>\n      <td>-2.890558</td>\n      <td>115.731104</td>\n      <td>POINT (115.73110 -2.89056)</td>\n    </tr>\n    <tr>\n      <th>997</th>\n      <td>LUMELITE-4</td>\n      <td>-3.365965</td>\n      <td>126.800385</td>\n      <td>POINT (126.80039 -3.36596)</td>\n    </tr>\n  </tbody>\n</table>\n</div>"
     },
     "execution_count": 3,
     "metadata": {},
     "output_type": "execute_result"
    }
   ],
   "source": [
    "# Create a DataFrame with health facilities in Ghana\n",
    "satellite_df = pd.read_csv(\"../data/last_30_days_launches.csv\")\n",
    "\n",
    "# Convert the DataFrame to a GeoDataFrame\n",
    "satellite_pos = gpd.GeoDataFrame(satellite_df, geometry=gpd.points_from_xy(satellite_df.Longitude, satellite_df.Latitude))\n",
    "\n",
    "# Set the coordinate reference system (CRS) to EPSG 4326\n",
    "satellite_pos.crs = {'init': 'epsg:4326'}\n",
    "\n",
    "# View the first five rows of the GeoDataFrame\n",
    "satellite_pos.head()"
   ],
   "metadata": {
    "collapsed": false,
    "ExecuteTime": {
     "end_time": "2023-05-22T19:11:50.817481Z",
     "start_time": "2023-05-22T19:11:50.761537Z"
    }
   }
  },
  {
   "cell_type": "code",
   "execution_count": 9,
   "outputs": [
    {
     "data": {
      "text/plain": "<AxesSubplot: >"
     },
     "execution_count": 9,
     "metadata": {},
     "output_type": "execute_result"
    },
    {
     "data": {
      "text/plain": "<Figure size 1000x1000 with 1 Axes>",
      "image/png": "[encoded data removed]"
     },
     "metadata": {},
     "output_type": "display_data"
    }
   ],
   "source": [
    "# Create a map\n",
    "ax = regions.plot(figsize=(10,10), color='whitesmoke', linestyle=':', edgecolor='black')\n",
    "satellite_pos.to_crs(epsg=32630).plot(markersize=1, ax=ax)"
   ],
   "metadata": {
    "collapsed": false,
    "ExecuteTime": {
     "end_time": "2023-05-22T19:14:50.277787Z",
     "start_time": "2023-05-22T19:14:49.625003Z"
    }
   }
  },
  {
   "cell_type": "code",
   "execution_count": 4,
   "outputs": [],
   "source": [],
   "metadata": {
    "collapsed": false,
    "ExecuteTime": {
     "end_time": "2023-05-22T19:11:51.859943Z",
     "start_time": "2023-05-22T19:11:51.857291Z"
    }
   }
  }
 ],
 "metadata": {
  "kernelspec": {
   "display_name": "Python 3",
   "language": "python",
   "name": "python3"
  },
  "language_info": {
   "codemirror_mode": {
    "name": "ipython",
    "version": 2
   },
   "file_extension": ".py",
   "mimetype": "text/x-python",
   "name": "python",
   "nbconvert_exporter": "python",
   "pygments_lexer": "ipython2",
   "version": "2.7.6"
  }
 },
 "nbformat": 4,
 "nbformat_minor": 0
}
